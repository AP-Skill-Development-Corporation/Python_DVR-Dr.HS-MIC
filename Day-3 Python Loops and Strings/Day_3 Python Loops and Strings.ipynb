{
 "cells": [
  {
   "cell_type": "markdown",
   "metadata": {},
   "source": [
    "## Day objectives\n",
    "\n",
    "- Loops Cont...\n",
    "- Strings\n",
    "- Data structures"
   ]
  },
  {
   "cell_type": "code",
   "execution_count": 5,
   "metadata": {},
   "outputs": [
    {
     "name": "stdout",
     "output_type": "stream",
     "text": [
      "enter number: 347\n",
      "Prime number\n"
     ]
    }
   ],
   "source": [
    "## prime number\n",
    "## A number which is divisible by one and itself\n",
    "\n",
    "n = int(input('enter number: '))\n",
    "f_c = 0\n",
    "for i in range(1,n+1):\n",
    "    if(n%i == 0):\n",
    "        f_c = f_c+1 ## f_c += 1\n",
    "if(f_c == 2):\n",
    "    print('Prime number')\n",
    "else:\n",
    "    print('Not prime number')\n",
    "        \n",
    "        \n",
    "\n",
    "        \n",
    "    "
   ]
  },
  {
   "cell_type": "markdown",
   "metadata": {},
   "source": [
    "## Task \n",
    "- Check the given number is perfect or not"
   ]
  },
  {
   "cell_type": "code",
   "execution_count": 7,
   "metadata": {},
   "outputs": [
    {
     "name": "stdout",
     "output_type": "stream",
     "text": [
      "78\n",
      "78 * 1 = 78\n",
      "78 * 2 = 156\n",
      "78 * 3 = 234\n",
      "78 * 4 = 312\n",
      "78 * 5 = 390\n",
      "78 * 6 = 468\n",
      "78 * 7 = 546\n",
      "78 * 8 = 624\n",
      "78 * 9 = 702\n",
      "78 * 10 = 780\n"
     ]
    }
   ],
   "source": [
    "## Table \n",
    "## input: 5\n",
    "## output:\n",
    "# 5*1 = 5\n",
    "# 5*2 = 10\n",
    "# --\n",
    "# --\n",
    "# 5*10 = 50\n",
    "\n",
    "t = int(input())\n",
    "for i in range(1,11):\n",
    "    print(t,'*',i,'=',t*i)\n",
    "    "
   ]
  },
  {
   "cell_type": "markdown",
   "metadata": {},
   "source": [
    "## while loop\n",
    "\n",
    "- which is used to repeat block of code into multiple times\n",
    "- iterations are unknown\n",
    "- execution speed is faster than for loop\n",
    "\n",
    "Syntax:\n",
    "\n",
    "initialization\n",
    "while(condition):\n",
    "    statements/logic\n",
    "    inc/dec\n",
    "    \n",
    "    "
   ]
  },
  {
   "cell_type": "code",
   "execution_count": 8,
   "metadata": {},
   "outputs": [
    {
     "name": "stdout",
     "output_type": "stream",
     "text": [
      "1 2 3 4 5 6 7 8 9 10 "
     ]
    }
   ],
   "source": [
    "## n natural numbers\n",
    "\n",
    "i = 1\n",
    "while(i<=10): ## 1<=10 2<=10 3<=10  --- 11<=10\n",
    "    print(i,end=' ')\n",
    "    i = i+1 ## i += 1 # i = 2 i = 3 -- i =11\n",
    "    "
   ]
  },
  {
   "cell_type": "code",
   "execution_count": 10,
   "metadata": {},
   "outputs": [
    {
     "name": "stdout",
     "output_type": "stream",
     "text": [
      "enter a number: 23984756\n",
      "Digit count is: 8\n"
     ]
    }
   ],
   "source": [
    "## Number of digits in the given number\n",
    "## input: 2356\n",
    "## OUTPUT: 4\n",
    "\n",
    "num = int(input('enter a number: '))\n",
    "d_c = 0\n",
    "while(num!=0):\n",
    "    num = num//10\n",
    "    d_c += 1\n",
    "print('Digit count is:',d_c)\n",
    "    \n"
   ]
  },
  {
   "cell_type": "code",
   "execution_count": 11,
   "metadata": {},
   "outputs": [
    {
     "data": {
      "text/plain": [
       "1.5"
      ]
     },
     "execution_count": 11,
     "metadata": {},
     "output_type": "execute_result"
    }
   ],
   "source": [
    "6/4"
   ]
  },
  {
   "cell_type": "code",
   "execution_count": 14,
   "metadata": {},
   "outputs": [
    {
     "data": {
      "text/plain": [
       "235"
      ]
     },
     "execution_count": 14,
     "metadata": {},
     "output_type": "execute_result"
    }
   ],
   "source": [
    "\n",
    "2356//10"
   ]
  },
  {
   "cell_type": "code",
   "execution_count": 15,
   "metadata": {},
   "outputs": [
    {
     "data": {
      "text/plain": [
       "23"
      ]
     },
     "execution_count": 15,
     "metadata": {},
     "output_type": "execute_result"
    }
   ],
   "source": [
    "235//10\n"
   ]
  },
  {
   "cell_type": "code",
   "execution_count": 16,
   "metadata": {},
   "outputs": [
    {
     "data": {
      "text/plain": [
       "2"
      ]
     },
     "execution_count": 16,
     "metadata": {},
     "output_type": "execute_result"
    }
   ],
   "source": [
    "23//10"
   ]
  },
  {
   "cell_type": "code",
   "execution_count": 17,
   "metadata": {},
   "outputs": [
    {
     "data": {
      "text/plain": [
       "0"
      ]
     },
     "execution_count": 17,
     "metadata": {},
     "output_type": "execute_result"
    }
   ],
   "source": [
    "2//10"
   ]
  },
  {
   "cell_type": "markdown",
   "metadata": {},
   "source": [
    "## Task\n",
    "- Caluculate digit sum in the given number\n",
    "- input: 234\n",
    "- output: 9"
   ]
  },
  {
   "cell_type": "code",
   "execution_count": 19,
   "metadata": {},
   "outputs": [
    {
     "name": "stdout",
     "output_type": "stream",
     "text": [
      "13255\n",
      "55231\n"
     ]
    }
   ],
   "source": [
    "## Reverse of the given number\n",
    "## input: 345\n",
    "## output: 543\n",
    "\n",
    "y = int(input())\n",
    "rev = 0\n",
    "while(y!=0):\n",
    "    rem = y%10\n",
    "    rev = rev*10+rem\n",
    "    y = y//10\n",
    "    \n",
    "print(rev)\n",
    "    \n",
    "    \n",
    "    \n"
   ]
  },
  {
   "cell_type": "code",
   "execution_count": 20,
   "metadata": {},
   "outputs": [
    {
     "data": {
      "text/plain": [
       "0"
      ]
     },
     "execution_count": 20,
     "metadata": {},
     "output_type": "execute_result"
    }
   ],
   "source": [
    "3//10"
   ]
  },
  {
   "cell_type": "markdown",
   "metadata": {},
   "source": [
    "## Task\n",
    "\n",
    "- Check the given number is palindrom or not\n",
    "- input: 121\n",
    "- output: 121\n",
    "\n",
    "- Check the given number is armstrong or not\n",
    "- input: 153 ## 1^3+5^3+3^3 == 153\n",
    "- output: Armstrong"
   ]
  },
  {
   "cell_type": "markdown",
   "metadata": {},
   "source": [
    "## Nested for loop\n",
    "\n",
    "- Loop inside loop\n",
    "- Pattern solving\n",
    "- Syntax:\n",
    "\n",
    "   for variable in range(start,end,step):\n",
    "       for variable in range(start,end,step):\n",
    "           statements/logic"
   ]
  },
  {
   "cell_type": "code",
   "execution_count": 22,
   "metadata": {},
   "outputs": [
    {
     "name": "stdout",
     "output_type": "stream",
     "text": [
      "enter start value: 65\n",
      "enter end value: 234\n",
      "67 71 73 79 83 89 97 101 103 107 109 113 127 131 137 139 149 151 157 163 167 173 179 181 191 193 197 199 211 223 227 229 233 "
     ]
    }
   ],
   "source": [
    "## Prime Numbers Series\n",
    "## input: 1 -- 10\n",
    "## output: 2 3 5 7\n",
    "\n",
    "sr = int(input('enter start value: '))\n",
    "er = int(input('enter end value: '))\n",
    "for i in range(sr,er+1):  ### i = 1 2 3 4 5 6 7 8 9 10\n",
    "    f_c = 0 ## i = 2\n",
    "    for j in range(1,i+1): ## j =  1 ## range(1,3) -- j = 1 2\n",
    "        if(i%j == 0): ## 1%1 == 0 ## 2%1 == 0 ## 2%2 == 0\n",
    "            f_c += 1 ## f_c = 1 ## f_c = 1  ## f_c = 2 \n",
    "    if(f_c == 2):\n",
    "        print(i,end=' ')\n",
    "    \n",
    "            \n",
    "        \n",
    "\n"
   ]
  },
  {
   "cell_type": "markdown",
   "metadata": {},
   "source": [
    "## Task\n",
    "- Print perfect number series\n",
    "- input: 1-- 10\n",
    "- output: 6"
   ]
  },
  {
   "cell_type": "code",
   "execution_count": 25,
   "metadata": {},
   "outputs": [
    {
     "name": "stdout",
     "output_type": "stream",
     "text": [
      "@  @  @  \n",
      "@  @  @  \n",
      "@  @  @  \n"
     ]
    }
   ],
   "source": [
    "## square pattern\n",
    "\n",
    "# @ @ @\n",
    "# @ @ @\n",
    "# @ @ @\n",
    "\n",
    "for i in range(3):\n",
    "    for j in range(3):\n",
    "        print('@ ',end=' ')\n",
    "    print()\n"
   ]
  },
  {
   "cell_type": "code",
   "execution_count": 16,
   "metadata": {},
   "outputs": [
    {
     "name": "stdout",
     "output_type": "stream",
     "text": [
      "5\n",
      "e  e  e  e  e  \n",
      "e           e  \n",
      "e           e  \n",
      "e           e  \n",
      "e  e  e  e  e  \n"
     ]
    }
   ],
   "source": [
    "# $ $ $\n",
    "# $   $\n",
    "# $ $ $\n",
    "\n",
    "n = int(input())\n",
    "for i in range(n):\n",
    "    for j in range(n):\n",
    "        if(i == 0 or j == 0 or i == n-1 or j == n-1):\n",
    "            print('e ',end=' ')\n",
    "        else:\n",
    "            print('  ',end=' ')\n",
    "    print()\n",
    "\n"
   ]
  },
  {
   "cell_type": "code",
   "execution_count": 7,
   "metadata": {},
   "outputs": [
    {
     "name": "stdout",
     "output_type": "stream",
     "text": [
      "$  $  $  \n",
      "$     $  \n",
      "$  $  $  \n"
     ]
    }
   ],
   "source": [
    "for i in range(3):\n",
    "    for j in range(3):\n",
    "        if(i==0 or j==0 or i==2 or j==2):\n",
    "            print('$ ',end=' ')\n",
    "            #print(i,j,end=' ')\n",
    "        else:\n",
    "            print('  ',end=' ')\n",
    "    print()\n",
    "    "
   ]
  },
  {
   "cell_type": "markdown",
   "metadata": {},
   "source": [
    "## Tasks\n",
    "\n",
    "- Print W pattern\n",
    "\n",
    "w       w \n",
    "w       w \n",
    "w   w   w \n",
    "w w   w w \n",
    "w       w \n",
    "\n",
    "- Print Z pattern\n",
    "\n"
   ]
  },
  {
   "cell_type": "markdown",
   "metadata": {},
   "source": [
    "## Nested while loop\n",
    "\n",
    "Syntax:\n",
    "\n",
    "initilization\n",
    "while(condition):\n",
    "    statements/logic\n",
    "    initilization\n",
    "    while(condition):\n",
    "        statements/logic\n",
    "        inc/dec\n",
    "    inc/dec\n",
    "    "
   ]
  },
  {
   "cell_type": "code",
   "execution_count": 17,
   "metadata": {},
   "outputs": [
    {
     "name": "stdout",
     "output_type": "stream",
     "text": [
      "1 2 3 4 5 6 7 8 9 10 \n",
      "2 4 6 8 10 12 14 16 18 20 \n",
      "3 6 9 12 15 18 21 24 27 30 \n",
      "4 8 12 16 20 24 28 32 36 40 \n",
      "5 10 15 20 25 30 35 40 45 50 \n",
      "6 12 18 24 30 36 42 48 54 60 \n",
      "7 14 21 28 35 42 49 56 63 70 \n",
      "8 16 24 32 40 48 56 64 72 80 \n",
      "9 18 27 36 45 54 63 72 81 90 \n",
      "10 20 30 40 50 60 70 80 90 100 \n"
     ]
    }
   ],
   "source": [
    "i = 1\n",
    "while i<=10:\n",
    "    j = 1\n",
    "    while j <= 10:\n",
    "        print(i*j,end=' ')\n",
    "        j += 1\n",
    "    print()\n",
    "    i += 1"
   ]
  },
  {
   "cell_type": "markdown",
   "metadata": {},
   "source": [
    "## jump statements\n",
    "\n",
    "- We can call it as unconditional jumps\n",
    "- break,continue and pass\n",
    "- break\n",
    "    - it will skip all iterations when the control reaches the break\n",
    "    - break is a keyword\n",
    "- continue\n",
    "    - it skips only current iteration and continue with next iteration\n",
    "    - continue is also a keyword\n",
    "- pass\n",
    "    - pass is a keyword is used to do nothing\n",
    "    - when we need condition or function or any class syntactically correct but we do not want to do any operation\n",
    "    - It is a null operation"
   ]
  },
  {
   "cell_type": "code",
   "execution_count": 19,
   "metadata": {},
   "outputs": [
    {
     "name": "stdout",
     "output_type": "stream",
     "text": [
      "0 1 2 "
     ]
    }
   ],
   "source": [
    "for i in range(5):\n",
    "    if i == 3:\n",
    "        break\n",
    "    print(i,end= ' ')"
   ]
  },
  {
   "cell_type": "code",
   "execution_count": 20,
   "metadata": {},
   "outputs": [
    {
     "name": "stdout",
     "output_type": "stream",
     "text": [
      "0 1 2 4 "
     ]
    }
   ],
   "source": [
    "for i in range(5):\n",
    "    if i == 3:\n",
    "        continue\n",
    "    print(i,end= ' ')"
   ]
  },
  {
   "cell_type": "code",
   "execution_count": null,
   "metadata": {},
   "outputs": [],
   "source": []
  },
  {
   "cell_type": "code",
   "execution_count": null,
   "metadata": {},
   "outputs": [],
   "source": []
  },
  {
   "cell_type": "code",
   "execution_count": null,
   "metadata": {},
   "outputs": [],
   "source": []
  },
  {
   "cell_type": "code",
   "execution_count": null,
   "metadata": {},
   "outputs": [],
   "source": []
  },
  {
   "cell_type": "markdown",
   "metadata": {},
   "source": [
    "## Strings\n",
    "\n",
    "- Collection of items or sequence of character or group of characters\n",
    "- Which is derived data type\n",
    "- we are simply create by enclosing characters in quotations('',\"\")\n",
    "- Strings are immutable(unchangable-once defined they cannot be change)"
   ]
  },
  {
   "cell_type": "code",
   "execution_count": 23,
   "metadata": {},
   "outputs": [
    {
     "name": "stdout",
     "output_type": "stream",
     "text": [
      "strings\n"
     ]
    },
    {
     "data": {
      "text/plain": [
       "str"
      ]
     },
     "execution_count": 23,
     "metadata": {},
     "output_type": "execute_result"
    }
   ],
   "source": [
    "a = 'strings'\n",
    "print(a)\n",
    "a\n",
    "type(a)"
   ]
  },
  {
   "cell_type": "code",
   "execution_count": 25,
   "metadata": {},
   "outputs": [
    {
     "name": "stdout",
     "output_type": "stream",
     "text": [
      "abcds\n",
      "abcds\n"
     ]
    }
   ],
   "source": [
    "y = input()\n",
    "print(y)"
   ]
  },
  {
   "cell_type": "code",
   "execution_count": 11,
   "metadata": {},
   "outputs": [
    {
     "name": "stdout",
     "output_type": "stream",
     "text": [
      "9\n",
      "a\n",
      "t\n",
      "['a', 'b', 'c', 'g', 'i', 'n', 'r', 's', 't']\n"
     ]
    }
   ],
   "source": [
    "a = 'stringabc'\n",
    "\n",
    "print(len(a))\n",
    "print(min(a))\n",
    "print(max(a))\n",
    "print(sorted(a))\n"
   ]
  },
  {
   "cell_type": "code",
   "execution_count": 7,
   "metadata": {},
   "outputs": [
    {
     "data": {
      "text/plain": [
       "'b'"
      ]
     },
     "execution_count": 7,
     "metadata": {},
     "output_type": "execute_result"
    }
   ],
   "source": [
    "chr(65)\n",
    "chr(98)"
   ]
  },
  {
   "cell_type": "code",
   "execution_count": 9,
   "metadata": {},
   "outputs": [
    {
     "data": {
      "text/plain": [
       "97"
      ]
     },
     "execution_count": 9,
     "metadata": {},
     "output_type": "execute_result"
    }
   ],
   "source": [
    "ord('a')"
   ]
  },
  {
   "cell_type": "code",
   "execution_count": 12,
   "metadata": {},
   "outputs": [
    {
     "data": {
      "text/plain": [
       "'abcxyz'"
      ]
     },
     "execution_count": 12,
     "metadata": {},
     "output_type": "execute_result"
    }
   ],
   "source": [
    "r = 'abc'\n",
    "y = 'xyz'\n",
    "r+y"
   ]
  },
  {
   "cell_type": "code",
   "execution_count": 13,
   "metadata": {},
   "outputs": [
    {
     "data": {
      "text/plain": [
       "'catcatcatcat'"
      ]
     },
     "execution_count": 13,
     "metadata": {},
     "output_type": "execute_result"
    }
   ],
   "source": [
    "r = 'cat'\n",
    "r*4"
   ]
  },
  {
   "cell_type": "code",
   "execution_count": 14,
   "metadata": {},
   "outputs": [
    {
     "data": {
      "text/plain": [
       "'cat'"
      ]
     },
     "execution_count": 14,
     "metadata": {},
     "output_type": "execute_result"
    }
   ],
   "source": [
    "## Indexing -- Syntax: str_name[interger(Position)]\n",
    "## forward indexing starts with zero (Positive indexing)\n",
    "## backward indexing starts with -1  (Negative indexing)\n",
    "\n",
    "r"
   ]
  },
  {
   "cell_type": "code",
   "execution_count": 15,
   "metadata": {},
   "outputs": [
    {
     "data": {
      "text/plain": [
       "'c'"
      ]
     },
     "execution_count": 15,
     "metadata": {},
     "output_type": "execute_result"
    }
   ],
   "source": [
    "r[0]"
   ]
  },
  {
   "cell_type": "code",
   "execution_count": 16,
   "metadata": {},
   "outputs": [
    {
     "data": {
      "text/plain": [
       "'a'"
      ]
     },
     "execution_count": 16,
     "metadata": {},
     "output_type": "execute_result"
    }
   ],
   "source": [
    "r[1]"
   ]
  },
  {
   "cell_type": "code",
   "execution_count": 17,
   "metadata": {},
   "outputs": [
    {
     "data": {
      "text/plain": [
       "'t'"
      ]
     },
     "execution_count": 17,
     "metadata": {},
     "output_type": "execute_result"
    }
   ],
   "source": [
    "r[-1]"
   ]
  },
  {
   "cell_type": "code",
   "execution_count": 23,
   "metadata": {},
   "outputs": [
    {
     "name": "stdout",
     "output_type": "stream",
     "text": [
      "python\n",
      "python\n",
      "shop\n",
      "python workshop\n",
      "pto okhp\n"
     ]
    }
   ],
   "source": [
    "## Slicing \n",
    "## Syntax: [start:end:step]\n",
    "s = 'python workshop'\n",
    "print(s[0:6:1])\n",
    "print(s[:6:])\n",
    "print(s[11:15])\n",
    "print(s[::])\n",
    "print(s[:15:2])"
   ]
  },
  {
   "cell_type": "code",
   "execution_count": 30,
   "metadata": {},
   "outputs": [
    {
     "data": {
      "text/plain": [
       "'pohskrow nohtyp'"
      ]
     },
     "execution_count": 30,
     "metadata": {},
     "output_type": "execute_result"
    }
   ],
   "source": [
    "## Negative slicing (right to left)\n",
    "\n",
    "s = 'python workshop'\n",
    "s[-6:-1]\n",
    "s[-4:-1]\n",
    "s[::-1]"
   ]
  },
  {
   "cell_type": "code",
   "execution_count": null,
   "metadata": {},
   "outputs": [],
   "source": []
  },
  {
   "cell_type": "code",
   "execution_count": null,
   "metadata": {},
   "outputs": [],
   "source": []
  }
 ],
 "metadata": {
  "kernelspec": {
   "display_name": "Python 3",
   "language": "python",
   "name": "python3"
  },
  "language_info": {
   "codemirror_mode": {
    "name": "ipython",
    "version": 3
   },
   "file_extension": ".py",
   "mimetype": "text/x-python",
   "name": "python",
   "nbconvert_exporter": "python",
   "pygments_lexer": "ipython3",
   "version": "3.8.3"
  }
 },
 "nbformat": 4,
 "nbformat_minor": 4
}
