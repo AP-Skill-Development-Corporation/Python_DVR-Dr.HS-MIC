{
 "cells": [
  {
   "cell_type": "markdown",
   "id": "a14e2b93",
   "metadata": {},
   "source": [
    "# Mark down mode is used for Text/documentaion making."
   ]
  },
  {
   "cell_type": "markdown",
   "id": "9f3f9335",
   "metadata": {},
   "source": [
    "## This is Online Python Workshop"
   ]
  },
  {
   "cell_type": "markdown",
   "id": "7c21dd75",
   "metadata": {},
   "source": [
    "### Duration : 6 Days"
   ]
  },
  {
   "cell_type": "markdown",
   "id": "8c5bc3b3",
   "metadata": {},
   "source": [
    "#### Daily 3hrs "
   ]
  },
  {
   "cell_type": "markdown",
   "id": "b5f4a1e8",
   "metadata": {},
   "source": [
    "##### Timings : 9 AM to 12 PM"
   ]
  },
  {
   "cell_type": "markdown",
   "id": "7e6df3cf",
   "metadata": {},
   "source": [
    "###### Must Practise Everyday   (Like Headings from h1 to h6 tags)"
   ]
  },
  {
   "cell_type": "markdown",
   "id": "6d892e92",
   "metadata": {},
   "source": [
    "#### Font Styles:\n",
    "*Hello*    - for italic font\n",
    "\n",
    "**Hello Hi**---for bold font\n",
    "\n",
    "***Hello Everyone*** ---for bold & Italic font"
   ]
  },
  {
   "cell_type": "markdown",
   "id": "538b3424",
   "metadata": {},
   "source": [
    "### How to insert images \n",
    "<img src = \"python.png\" width=250 height =250>"
   ]
  },
  {
   "cell_type": "markdown",
   "id": "3f5ac98d",
   "metadata": {},
   "source": [
    "![PythonLogo](python.png)"
   ]
  },
  {
   "cell_type": "markdown",
   "id": "4ce240f2",
   "metadata": {},
   "source": [
    "#### How to insert websites and videos links\n",
    "[APSSDC Registration Link](http://engineering.apssdc.in/register/)"
   ]
  },
  {
   "cell_type": "markdown",
   "id": "b5d2a26f",
   "metadata": {},
   "source": [
    "### How to Create Tables in Jupiter:\n",
    "### Employee Table:\n",
    "     |Name | Profession | Email ID | Company | Location | MOBILE|\n",
    "     |----:|-----------:|---------:|--------:|---------:|------:|\n",
    "     |Surya K | Trainer Com Developer|karanam.s@apssdc.in|APSSDC|Vijayawada|8328401910|"
   ]
  },
  {
   "cell_type": "markdown",
   "id": "dad87093",
   "metadata": {},
   "source": [
    "### Python Introduction"
   ]
  },
  {
   "cell_type": "code",
   "execution_count": null,
   "id": "5ff7eb7d",
   "metadata": {},
   "outputs": [],
   "source": [
    "Python is Intrepreted High-Level- General Purpose Programming Language"
   ]
  },
  {
   "cell_type": "markdown",
   "id": "634ccd16",
   "metadata": {},
   "source": [
    "#Key Points: \n",
    " 1. Its was developed by GUIDO VAN Rossum in 1990-91 (Initial Verison 0.1.0)\n",
    " 2. Why its called as Python?\n",
    "   --> Developed was Reading scripts from \n",
    "     \"Monty python's Flying Circus\" BBC Comedy Web Series\n",
    " 3. Python character look like short,unique,mystrious.\n",
    " \n",
    "   Python Latest Version 3.9.0\n",
    "     "
   ]
  },
  {
   "cell_type": "code",
   "execution_count": null,
   "id": "2f4e349e",
   "metadata": {},
   "outputs": [],
   "source": [
    "#Python Features: #include<stdio.h>\n",
    "\n",
    "1. Easy use and read and Learn (User friendly Syntax.)\n",
    "2. Open source ---> Licence Free (Easy to down and use)\n",
    "3. Its has huge standard libraires.\n",
    "4. Dynamic Typed Langauge (we no need give data type before variable names)\n",
    "5. Portable (write once and run on cross platforms such as windows,Linux,Ios)\n",
    "6. GUI (Graphical User Interface Applications)\n",
    "7. Its Supports Multi-Paradigm approach\n",
    "        - Procedure Oriented (Functions)\n",
    "        - Object Oriented (Objects)\n"
   ]
  },
  {
   "cell_type": "code",
   "execution_count": 6,
   "id": "ce46108e",
   "metadata": {},
   "outputs": [
    {
     "name": "stdout",
     "output_type": "stream",
     "text": [
      "10\n",
      "6.3\n",
      "Python\n"
     ]
    }
   ],
   "source": [
    "a = 10\n",
    "b = 6.3\n",
    "s = \"Python\"\n",
    "print(a)\n",
    "print(b)\n",
    "print(s)"
   ]
  },
  {
   "cell_type": "code",
   "execution_count": null,
   "id": "4daba284",
   "metadata": {},
   "outputs": [],
   "source": [
    "#Python Applications:\n",
    "1. Game Development\n",
    "2. Web APPS and Website Devlopement\n",
    "3. Data Science\n",
    "4. Machine Learning & Artificial Intelligence\n",
    "5. GUI Applications\n",
    "6. Software Developement Life Cycle"
   ]
  }
 ],
 "metadata": {
  "kernelspec": {
   "display_name": "Python 3",
   "language": "python",
   "name": "python3"
  },
  "language_info": {
   "codemirror_mode": {
    "name": "ipython",
    "version": 3
   },
   "file_extension": ".py",
   "mimetype": "text/x-python",
   "name": "python",
   "nbconvert_exporter": "python",
   "pygments_lexer": "ipython3",
   "version": "3.8.8"
  }
 },
 "nbformat": 4,
 "nbformat_minor": 5
}
