{
 "cells": [
  {
   "cell_type": "markdown",
   "metadata": {},
   "source": [
    "## Day objectives\n",
    "\n",
    "- Basics of python\n",
    "    - comments\n",
    "    - keywords\n",
    "    - variables\n",
    "    - operators\n",
    "- Conditional statements\n",
    "    - if\n",
    "    - if..else\n",
    "    - if...elif..else\n",
    "    - nested..if\n",
    "- Control statements or Iterative statements\n",
    "    - for \n",
    "    - while\n",
    "    - nested for and nested while"
   ]
  },
  {
   "cell_type": "markdown",
   "metadata": {},
   "source": [
    "- Comments\n",
    "    - Used for holding particular lines of code\n",
    "    - We have two types of comments\n",
    "        - single line comment\n",
    "            - #\n",
    "        - multi line comment\n",
    "            - \"\"\" data \"\"\"\n",
    "- Keywords\n",
    "    - We can call it as reserved words\n",
    "    - To defined code\n",
    "    - keywords cannot used as a variable name,function name\n",
    "    \n",
    "- Variables\n",
    "    - Which is used for store values a specific memory location\n",
    "    - Rules for declaring variables\n",
    "        - keywords cannot used as a variable name\n",
    "        - Variable should not starts with integers\n",
    "        - Don't mention spaces\n",
    "        - Variable should not starts with special characters\n",
    "        - but it starts only letter (_)\n",
    "        - Don't used function names as a varaible name\n",
    "- Data Types\n",
    "    - Data type specifies which type of value of a variable\n",
    "    - int (intergers)\n",
    "    - str (for character or names)\n",
    "    - float (for decimal values)\n",
    "    \n",
    "\n",
    "        "
   ]
  },
  {
   "cell_type": "code",
   "execution_count": 22,
   "metadata": {},
   "outputs": [
    {
     "name": "stdout",
     "output_type": "stream",
     "text": [
      "msg\n",
      "hi\n"
     ]
    }
   ],
   "source": [
    "# print(\"APSSDC\")\n",
    "print('msg')\n",
    "\"\"\" print('Good morning')\n",
    "print('Name')\n",
    "print('Hello world') \"\"\"\n",
    "print('hi')\n"
   ]
  },
  {
   "cell_type": "code",
   "execution_count": 19,
   "metadata": {},
   "outputs": [
    {
     "name": "stdout",
     "output_type": "stream",
     "text": [
      "name\n",
      "mam\n"
     ]
    }
   ],
   "source": [
    "print('name')\n",
    "\"\"\"print('hello')\n",
    "print(\"man\")\"\"\"\n",
    "print('mam')\n"
   ]
  },
  {
   "cell_type": "code",
   "execution_count": null,
   "metadata": {},
   "outputs": [],
   "source": [
    "import keyword\n",
    "print(keyword.kwlist)"
   ]
  },
  {
   "cell_type": "code",
   "execution_count": 4,
   "metadata": {},
   "outputs": [
    {
     "name": "stdout",
     "output_type": "stream",
     "text": [
      "35\n"
     ]
    }
   ],
   "source": [
    "print(len(keyword.kwlist))"
   ]
  },
  {
   "cell_type": "code",
   "execution_count": 6,
   "metadata": {},
   "outputs": [
    {
     "name": "stdout",
     "output_type": "stream",
     "text": [
      "12\n",
      "15\n"
     ]
    },
    {
     "data": {
      "text/plain": [
       "int"
      ]
     },
     "execution_count": 6,
     "metadata": {},
     "output_type": "execute_result"
    }
   ],
   "source": [
    "n1 = 12\n",
    "n2 = 15\n",
    "print(n1)\n",
    "print(n2)\n",
    "type(n1)"
   ]
  },
  {
   "cell_type": "code",
   "execution_count": 7,
   "metadata": {},
   "outputs": [
    {
     "data": {
      "text/plain": [
       "float"
      ]
     },
     "execution_count": 7,
     "metadata": {},
     "output_type": "execute_result"
    }
   ],
   "source": [
    "t = 3.56\n",
    "type(t)"
   ]
  },
  {
   "cell_type": "code",
   "execution_count": 8,
   "metadata": {},
   "outputs": [
    {
     "data": {
      "text/plain": [
       "str"
      ]
     },
     "execution_count": 8,
     "metadata": {},
     "output_type": "execute_result"
    }
   ],
   "source": [
    "y = 'hello'\n",
    "type(y)"
   ]
  },
  {
   "cell_type": "code",
   "execution_count": 9,
   "metadata": {},
   "outputs": [
    {
     "ename": "SyntaxError",
     "evalue": "invalid syntax (<ipython-input-9-cd06edd6d22b>, line 1)",
     "output_type": "error",
     "traceback": [
      "\u001b[1;36m  File \u001b[1;32m\"<ipython-input-9-cd06edd6d22b>\"\u001b[1;36m, line \u001b[1;32m1\u001b[0m\n\u001b[1;33m    1n = 5\u001b[0m\n\u001b[1;37m     ^\u001b[0m\n\u001b[1;31mSyntaxError\u001b[0m\u001b[1;31m:\u001b[0m invalid syntax\n"
     ]
    }
   ],
   "source": [
    "1n = 5\n",
    "2n = 67\n",
    "print(1n)\n",
    "print(2n)"
   ]
  },
  {
   "cell_type": "code",
   "execution_count": 10,
   "metadata": {},
   "outputs": [
    {
     "name": "stdout",
     "output_type": "stream",
     "text": [
      "6\n"
     ]
    }
   ],
   "source": [
    "_h = 6\n",
    "print(_h)"
   ]
  },
  {
   "cell_type": "code",
   "execution_count": 23,
   "metadata": {},
   "outputs": [
    {
     "name": "stdout",
     "output_type": "stream",
     "text": [
      "7\n",
      "7\n",
      "7\n"
     ]
    }
   ],
   "source": [
    "n1 = n2 = n3 = 7  ## multi variable assignment with same value\n",
    "print(n1)\n",
    "print(n2)\n",
    "print(n3)"
   ]
  },
  {
   "cell_type": "code",
   "execution_count": 24,
   "metadata": {},
   "outputs": [
    {
     "name": "stdout",
     "output_type": "stream",
     "text": [
      "123\n",
      "234\n",
      "456\n"
     ]
    }
   ],
   "source": [
    "a,b,c = 123,234,456 ## multi varaibale assignment with multi values\n",
    "print(a)\n",
    "print(b)\n",
    "print(c)"
   ]
  },
  {
   "cell_type": "markdown",
   "metadata": {},
   "source": [
    "- Type casting\n",
    "    - Changing one kind of data type into another kind of data type"
   ]
  },
  {
   "cell_type": "code",
   "execution_count": 30,
   "metadata": {},
   "outputs": [
    {
     "data": {
      "text/plain": [
       "float"
      ]
     },
     "execution_count": 30,
     "metadata": {},
     "output_type": "execute_result"
    }
   ],
   "source": [
    "a = 12\n",
    "type(a)\n",
    "res = float(a)\n",
    "type(res)"
   ]
  },
  {
   "cell_type": "code",
   "execution_count": 36,
   "metadata": {},
   "outputs": [
    {
     "name": "stdout",
     "output_type": "stream",
     "text": [
      "enter first number: 3\n",
      "enter second number: 4\n",
      "3\n",
      "4\n"
     ]
    },
    {
     "data": {
      "text/plain": [
       "int"
      ]
     },
     "execution_count": 36,
     "metadata": {},
     "output_type": "execute_result"
    }
   ],
   "source": [
    "x = int(input('enter first number: '))\n",
    "y = int(input('enter second number: '))\n",
    "print(x)\n",
    "print(y)\n",
    "type(x)"
   ]
  },
  {
   "cell_type": "code",
   "execution_count": 41,
   "metadata": {},
   "outputs": [
    {
     "name": "stdout",
     "output_type": "stream",
     "text": [
      "enter first number: 6\n",
      "enter second number: 3\n",
      "9\n"
     ]
    }
   ],
   "source": [
    "## Dynamic way of programming\n",
    "\n",
    "x = int(input('enter first number: '))\n",
    "y = int(input('enter second number: '))\n",
    "print(x+y)"
   ]
  },
  {
   "cell_type": "code",
   "execution_count": 40,
   "metadata": {},
   "outputs": [
    {
     "name": "stdout",
     "output_type": "stream",
     "text": [
      "10\n"
     ]
    }
   ],
   "source": [
    "## Static way of programming\n",
    "\n",
    "x = 8\n",
    "y = 2\n",
    "print(x+y)"
   ]
  },
  {
   "cell_type": "code",
   "execution_count": 33,
   "metadata": {},
   "outputs": [
    {
     "name": "stdout",
     "output_type": "stream",
     "text": [
      "enter input56\n"
     ]
    },
    {
     "data": {
      "text/plain": [
       "str"
      ]
     },
     "execution_count": 33,
     "metadata": {},
     "output_type": "execute_result"
    }
   ],
   "source": [
    "t = input('enter input')\n",
    "type(t)"
   ]
  },
  {
   "cell_type": "markdown",
   "metadata": {},
   "source": [
    "#### Operators\n",
    "\n",
    "- Used to perform mathematical operations and for adding values\n",
    "- Arithmetic operators(+,-,*,/,%,//(floor division),**(power))\n",
    "- Assignment operators(=, +=, -=, *= , /= )\n",
    "- Comparison operators(==, != , <,>,<=,>=)\n",
    "- Logical operators(and, or, not)\n",
    "- Identity operators(is, is not)\n",
    "- Membership operators(in, not in)\n",
    "- Bistwise operators(&,|,^,<<,>>)"
   ]
  },
  {
   "cell_type": "code",
   "execution_count": 42,
   "metadata": {},
   "outputs": [
    {
     "name": "stdout",
     "output_type": "stream",
     "text": [
      "enter a number: 11\n",
      "enter another number: 5\n",
      "16\n",
      "6\n",
      "55\n",
      "2.2\n",
      "2\n",
      "1\n",
      "161051\n"
     ]
    }
   ],
   "source": [
    "a = int(input('enter a number: '))\n",
    "b = int(input('enter another number: '))\n",
    "print(a+b)\n",
    "print(a-b)\n",
    "print(a*b)\n",
    "print(a/b)\n",
    "print(a//b)\n",
    "print(a%b)\n",
    "print(a**b) ## 11**5"
   ]
  },
  {
   "cell_type": "code",
   "execution_count": 45,
   "metadata": {},
   "outputs": [
    {
     "name": "stdout",
     "output_type": "stream",
     "text": [
      "30\n",
      "10\n",
      "200\n"
     ]
    }
   ],
   "source": [
    "s = 10\n",
    "b = 20\n",
    "\n",
    "s += b  ## s = s+b  s = 10+20\n",
    "print(s)\n",
    "\n",
    "s -= b  ## s = s-b  s = 30 - 20\n",
    "print(s)\n",
    "\n",
    "s *= b\n",
    "print(s)\n",
    "\n",
    "\n",
    "\n"
   ]
  },
  {
   "cell_type": "code",
   "execution_count": 52,
   "metadata": {},
   "outputs": [
    {
     "name": "stdout",
     "output_type": "stream",
     "text": [
      "True\n",
      "False\n",
      "False\n",
      "True\n",
      "True\n",
      "False\n"
     ]
    }
   ],
   "source": [
    "## comparison operators\n",
    "\n",
    "c = 10\n",
    "d = 10\n",
    "print(c == d) ## 10 == 20\n",
    "print(c < d ) ## 10<20\n",
    "print(c > d) ## 10>20\n",
    "print(c <= d)\n",
    "print(c >= d)\n",
    "print(c != d)"
   ]
  },
  {
   "cell_type": "code",
   "execution_count": 56,
   "metadata": {},
   "outputs": [
    {
     "name": "stdout",
     "output_type": "stream",
     "text": [
      "True\n",
      "True\n",
      "False\n"
     ]
    }
   ],
   "source": [
    "## Logical operators\n",
    "\n",
    "a = 6\n",
    "print(a>4 and a>5)  ## 6>4 and 6<5\n",
    "print(a>4 or a<5) ## 6>4 or 6<5\n",
    "print(not(a>4 or a<5))"
   ]
  },
  {
   "cell_type": "code",
   "execution_count": 58,
   "metadata": {},
   "outputs": [
    {
     "name": "stdout",
     "output_type": "stream",
     "text": [
      "False\n",
      "True\n"
     ]
    }
   ],
   "source": [
    "## Identity operators\n",
    "\n",
    "a = 'mango'\n",
    "b = 'Mango'\n",
    "print(a is b)\n",
    "print(a is not b)"
   ]
  },
  {
   "cell_type": "code",
   "execution_count": 60,
   "metadata": {},
   "outputs": [
    {
     "name": "stdout",
     "output_type": "stream",
     "text": [
      "True\n",
      "False\n"
     ]
    }
   ],
   "source": [
    "## Membership operators\n",
    "\n",
    "a = 'Nandini'\n",
    "print('n' in a)\n",
    "print('d' not in a)\n"
   ]
  },
  {
   "cell_type": "code",
   "execution_count": 61,
   "metadata": {},
   "outputs": [
    {
     "name": "stdout",
     "output_type": "stream",
     "text": [
      "2\n",
      "10\n",
      "8\n"
     ]
    }
   ],
   "source": [
    "## Bitwise operators\n",
    "\n",
    "a = 10  ## 1010\n",
    "b = 2 ##   0010\n",
    "print(a&b)\n",
    "print(a|b)\n",
    "print(a^b)\n"
   ]
  },
  {
   "cell_type": "code",
   "execution_count": 62,
   "metadata": {},
   "outputs": [
    {
     "data": {
      "text/plain": [
       "20"
      ]
     },
     "execution_count": 62,
     "metadata": {},
     "output_type": "execute_result"
    }
   ],
   "source": [
    "a = 10\n",
    "a<<1"
   ]
  },
  {
   "cell_type": "code",
   "execution_count": null,
   "metadata": {},
   "outputs": [],
   "source": []
  },
  {
   "cell_type": "code",
   "execution_count": null,
   "metadata": {},
   "outputs": [],
   "source": []
  },
  {
   "cell_type": "markdown",
   "metadata": {},
   "source": [
    "## Conditional statements\n",
    "\n",
    "- To execute specific block or code when the given condition is true or false\n",
    "- Types of conditional statements\n",
    "    - if --> to check single condtions in a program\n",
    "    - if..else --> to check two condtions in a program\n",
    "    - if..elif..else --> to check more that two condtions\n",
    "    - nested --> conditions inside conditions"
   ]
  },
  {
   "cell_type": "markdown",
   "metadata": {},
   "source": [
    "### if \n",
    "\n",
    "Syntax:\n",
    "\n",
    "if(condition):\n",
    "    statement/logic\n",
    "    \n",
    "indendation: \n",
    "    - four spaces or one tabspace\n",
    "    "
   ]
  },
  {
   "cell_type": "code",
   "execution_count": 65,
   "metadata": {},
   "outputs": [
    {
     "name": "stdout",
     "output_type": "stream",
     "text": [
      "enter first number: 9\n",
      "enter second number: 3\n"
     ]
    }
   ],
   "source": [
    "## sum of two number is greater than 20 or not\n",
    "## input: 12 14 -->26\n",
    "## output: 26 is greater than 20\n",
    "\n",
    "x = int(input('enter first number: '))\n",
    "y = int(input('enter second number: '))\n",
    "if(x+y > 20):\n",
    "    print(x+y,'is greater than 20')\n"
   ]
  },
  {
   "cell_type": "markdown",
   "metadata": {},
   "source": [
    "### if...else\n",
    "\n",
    "Syntax:\n",
    " \n",
    "if(condition):\n",
    "    statements/logic\n",
    "else:\n",
    "    staements/logic\n"
   ]
  },
  {
   "cell_type": "code",
   "execution_count": 68,
   "metadata": {},
   "outputs": [
    {
     "name": "stdout",
     "output_type": "stream",
     "text": [
      "enter a number: 5\n",
      "5 is Odd\n"
     ]
    }
   ],
   "source": [
    "## EVEN OR ODD\n",
    "\n",
    "num = int(input('enter a number: '))\n",
    "if(num%2 == 0):\n",
    "    print(num,'is Even')\n",
    "else:\n",
    "    print(num,'is Odd')\n",
    "    \n",
    "    "
   ]
  },
  {
   "cell_type": "code",
   "execution_count": 67,
   "metadata": {},
   "outputs": [
    {
     "data": {
      "text/plain": [
       "True"
      ]
     },
     "execution_count": 67,
     "metadata": {},
     "output_type": "execute_result"
    }
   ],
   "source": [
    "4%2 == 0"
   ]
  },
  {
   "cell_type": "code",
   "execution_count": 69,
   "metadata": {},
   "outputs": [
    {
     "data": {
      "text/plain": [
       "False"
      ]
     },
     "execution_count": 69,
     "metadata": {},
     "output_type": "execute_result"
    }
   ],
   "source": [
    "5%2 == 0"
   ]
  },
  {
   "cell_type": "code",
   "execution_count": 71,
   "metadata": {},
   "outputs": [
    {
     "name": "stdout",
     "output_type": "stream",
     "text": [
      "enter number: 78\n",
      "Not existed\n"
     ]
    }
   ],
   "source": [
    "## Check the given number is existed in the given range or not\n",
    "## input: 6\n",
    "## range --> 1--10\n",
    "## Existed \n",
    "## Not existed\n",
    "\n",
    "n = int(input('enter number: '))\n",
    "if(n>=1 and n<=10): ## 6>=1 and 6<=10\n",
    "    print('Existed')\n",
    "else:\n",
    "    print('Not existed')"
   ]
  },
  {
   "cell_type": "markdown",
   "metadata": {},
   "source": [
    "## if..elif..else\n",
    "\n",
    "Syntax:\n",
    "\n",
    "if(condition):\n",
    "    statements/logic\n",
    "elif(condition):\n",
    "    statements/logic\n",
    "    \n",
    "   \n",
    "   --\n",
    "   --\n",
    "   --\n",
    "else:\n",
    "    statements/logic"
   ]
  },
  {
   "cell_type": "code",
   "execution_count": 73,
   "metadata": {},
   "outputs": [
    {
     "name": "stdout",
     "output_type": "stream",
     "text": [
      "9\n",
      "5\n",
      "@\n",
      "Invalid character\n"
     ]
    }
   ],
   "source": [
    "## Mathematical operations\n",
    "## +,-,*,/\n",
    "\n",
    "a = int(input())\n",
    "b = int(input())\n",
    "c = input()\n",
    "if(c == '+'):\n",
    "    print(a+b)\n",
    "elif(c == '-'):\n",
    "    print(a-b)\n",
    "elif(c == '*'):\n",
    "    print(a*b)\n",
    "elif(c == '/'):\n",
    "    print(a/b)\n",
    "else:\n",
    "    print('Invalid character')"
   ]
  },
  {
   "cell_type": "markdown",
   "metadata": {},
   "source": [
    "## nested if..elif..else\n",
    "\n",
    "Syntax:\n",
    " \n",
    "if(condition):\n",
    "    statements\n",
    "    if(condition):\n",
    "        statements/logic\n",
    "        \n",
    "        --\n"
   ]
  },
  {
   "cell_type": "code",
   "execution_count": 78,
   "metadata": {},
   "outputs": [
    {
     "name": "stdout",
     "output_type": "stream",
     "text": [
      "enter user_id: 6\n",
      "enter password: 4\n",
      "Wrong passowrd\n"
     ]
    }
   ],
   "source": [
    "## 1 -- 100 (user_ids)\n",
    "    ## password (12345)\n",
    "        ## Successfully entered\n",
    "    ## Wrong password\n",
    "## Invalid use_id\n",
    "    \n",
    "u_id = int(input('enter user_id: '))\n",
    "if(u_id>=1 and u_id<=100):\n",
    "    pwd = int(input('enter password: '))\n",
    "    if(pwd == 12345):\n",
    "        print('Successfully entered')\n",
    "    else:\n",
    "        print('Wrong passowrd')   \n",
    "else:\n",
    "    print('Invalid user')"
   ]
  },
  {
   "cell_type": "markdown",
   "metadata": {},
   "source": [
    "### Tasks\n",
    "\n",
    "1. Number spelling(0 -- 9)\n",
    "    - input: 5\n",
    "    - output: Five\n",
    "2. Days\n",
    "    - input: 2\n",
    "    - output: Monday\n",
    "3. Big number of 3 number\n",
    "4. Vote eligibility\n",
    "    - input: 23\n",
    "    - output:  Eligible\n",
    "5. Check the given character is vowel or consonant\n",
    " "
   ]
  },
  {
   "cell_type": "markdown",
   "metadata": {},
   "source": []
  },
  {
   "cell_type": "code",
   "execution_count": null,
   "metadata": {},
   "outputs": [],
   "source": []
  },
  {
   "cell_type": "markdown",
   "metadata": {},
   "source": [
    "## Iterations/Loops\n",
    "\n",
    "- for \n",
    "    - which is used to execute a block of code into multiple times\n",
    "- while\n",
    "- nested for\n",
    "- nested while"
   ]
  },
  {
   "cell_type": "code",
   "execution_count": 79,
   "metadata": {},
   "outputs": [
    {
     "name": "stdout",
     "output_type": "stream",
     "text": [
      "apssdc\n",
      "apssdc\n",
      "apssdc\n",
      "apssdc\n",
      "apssdc\n"
     ]
    }
   ],
   "source": [
    "print('apssdc')\n",
    "print('apssdc')\n",
    "print('apssdc')\n",
    "print('apssdc')\n",
    "print('apssdc')"
   ]
  },
  {
   "cell_type": "markdown",
   "metadata": {},
   "source": [
    "Syntax of for loop:\n",
    "\n",
    "for variable in range(start,end,step):\n",
    "    statements/logic\n"
   ]
  },
  {
   "cell_type": "code",
   "execution_count": 80,
   "metadata": {},
   "outputs": [
    {
     "name": "stdout",
     "output_type": "stream",
     "text": [
      "1\n",
      "2\n",
      "3\n",
      "4\n",
      "5\n",
      "6\n",
      "7\n",
      "8\n",
      "9\n"
     ]
    }
   ],
   "source": [
    "for i in range(1,10,1):\n",
    "    print(i)"
   ]
  },
  {
   "cell_type": "code",
   "execution_count": 81,
   "metadata": {},
   "outputs": [
    {
     "name": "stdout",
     "output_type": "stream",
     "text": [
      "1\n",
      "2\n",
      "3\n",
      "4\n",
      "5\n",
      "6\n",
      "7\n",
      "8\n",
      "9\n"
     ]
    }
   ],
   "source": [
    "for i in range(1,10):\n",
    "    print(i)"
   ]
  },
  {
   "cell_type": "code",
   "execution_count": 82,
   "metadata": {},
   "outputs": [
    {
     "name": "stdout",
     "output_type": "stream",
     "text": [
      "0\n",
      "1\n",
      "2\n",
      "3\n",
      "4\n",
      "5\n",
      "6\n",
      "7\n",
      "8\n",
      "9\n"
     ]
    }
   ],
   "source": [
    "for i in range(10):\n",
    "    print(i)"
   ]
  },
  {
   "cell_type": "code",
   "execution_count": 83,
   "metadata": {},
   "outputs": [
    {
     "name": "stdout",
     "output_type": "stream",
     "text": [
      "1 2 3 4 5 6 7 8 9 "
     ]
    }
   ],
   "source": [
    "for i in range(1,10):\n",
    "    print(i,end=\" \")"
   ]
  },
  {
   "cell_type": "code",
   "execution_count": 84,
   "metadata": {},
   "outputs": [
    {
     "name": "stdout",
     "output_type": "stream",
     "text": [
      "1&2&3&4&5&6&7&8&9&"
     ]
    }
   ],
   "source": [
    "for i in range(1,10):\n",
    "    print(i,end=\"&\")"
   ]
  },
  {
   "cell_type": "code",
   "execution_count": 85,
   "metadata": {},
   "outputs": [
    {
     "name": "stdout",
     "output_type": "stream",
     "text": [
      "10 9 8 7 6 5 4 3 2 1 "
     ]
    }
   ],
   "source": [
    "for i in range(10,0,-1):\n",
    "    print(i,end=' ')"
   ]
  },
  {
   "cell_type": "code",
   "execution_count": 86,
   "metadata": {},
   "outputs": [
    {
     "name": "stdout",
     "output_type": "stream",
     "text": [
      "apssdc apssdc apssdc apssdc apssdc apssdc apssdc apssdc apssdc apssdc apssdc apssdc apssdc apssdc apssdc apssdc apssdc apssdc apssdc apssdc apssdc apssdc apssdc apssdc apssdc apssdc apssdc apssdc apssdc apssdc apssdc apssdc apssdc apssdc apssdc apssdc apssdc apssdc apssdc apssdc apssdc apssdc apssdc apssdc apssdc apssdc apssdc apssdc apssdc apssdc apssdc apssdc apssdc apssdc apssdc apssdc apssdc apssdc apssdc apssdc apssdc apssdc apssdc apssdc apssdc apssdc apssdc apssdc apssdc apssdc apssdc apssdc apssdc apssdc apssdc apssdc apssdc apssdc apssdc apssdc apssdc apssdc apssdc apssdc apssdc apssdc apssdc apssdc apssdc apssdc apssdc apssdc apssdc apssdc apssdc apssdc apssdc apssdc apssdc apssdc apssdc apssdc apssdc apssdc apssdc apssdc apssdc apssdc apssdc apssdc apssdc apssdc apssdc apssdc apssdc apssdc apssdc apssdc apssdc apssdc apssdc apssdc apssdc apssdc apssdc apssdc apssdc apssdc apssdc apssdc apssdc apssdc apssdc apssdc apssdc apssdc apssdc apssdc apssdc apssdc apssdc apssdc apssdc apssdc apssdc apssdc apssdc apssdc apssdc apssdc apssdc apssdc apssdc apssdc apssdc apssdc apssdc apssdc apssdc apssdc apssdc apssdc apssdc apssdc apssdc apssdc apssdc apssdc apssdc apssdc apssdc apssdc apssdc apssdc apssdc apssdc apssdc apssdc apssdc apssdc apssdc apssdc apssdc apssdc apssdc apssdc apssdc apssdc apssdc apssdc apssdc apssdc apssdc apssdc apssdc apssdc apssdc apssdc apssdc apssdc apssdc apssdc apssdc apssdc apssdc apssdc apssdc apssdc apssdc apssdc apssdc apssdc apssdc apssdc apssdc apssdc apssdc apssdc apssdc apssdc apssdc apssdc apssdc apssdc apssdc apssdc apssdc apssdc apssdc apssdc apssdc apssdc apssdc apssdc apssdc apssdc apssdc apssdc apssdc apssdc apssdc apssdc apssdc apssdc apssdc apssdc apssdc apssdc apssdc apssdc apssdc apssdc apssdc apssdc apssdc apssdc apssdc apssdc apssdc apssdc apssdc apssdc apssdc apssdc apssdc apssdc apssdc apssdc apssdc apssdc apssdc apssdc apssdc apssdc apssdc apssdc apssdc apssdc apssdc apssdc apssdc apssdc apssdc apssdc apssdc apssdc apssdc apssdc apssdc apssdc apssdc apssdc apssdc apssdc apssdc apssdc apssdc apssdc apssdc apssdc apssdc apssdc apssdc apssdc apssdc apssdc apssdc apssdc apssdc apssdc apssdc apssdc apssdc apssdc apssdc apssdc apssdc apssdc apssdc apssdc apssdc apssdc apssdc apssdc apssdc apssdc apssdc apssdc apssdc apssdc apssdc apssdc apssdc apssdc apssdc apssdc apssdc apssdc apssdc apssdc apssdc apssdc apssdc apssdc apssdc apssdc apssdc apssdc apssdc apssdc apssdc apssdc apssdc apssdc apssdc apssdc apssdc apssdc apssdc apssdc apssdc apssdc apssdc apssdc apssdc apssdc apssdc apssdc apssdc apssdc apssdc apssdc apssdc apssdc apssdc apssdc apssdc apssdc apssdc apssdc apssdc apssdc apssdc apssdc apssdc apssdc apssdc apssdc apssdc apssdc apssdc apssdc apssdc apssdc apssdc apssdc apssdc apssdc apssdc apssdc apssdc apssdc apssdc apssdc apssdc apssdc apssdc apssdc apssdc apssdc apssdc apssdc apssdc apssdc apssdc apssdc apssdc apssdc apssdc apssdc apssdc apssdc apssdc apssdc apssdc apssdc apssdc apssdc apssdc apssdc apssdc apssdc apssdc apssdc apssdc apssdc apssdc apssdc apssdc apssdc apssdc apssdc apssdc apssdc apssdc apssdc apssdc apssdc apssdc apssdc apssdc apssdc apssdc apssdc apssdc apssdc apssdc apssdc apssdc apssdc apssdc apssdc apssdc apssdc apssdc apssdc apssdc apssdc apssdc apssdc apssdc apssdc apssdc apssdc apssdc apssdc apssdc apssdc apssdc apssdc apssdc apssdc apssdc apssdc apssdc apssdc apssdc apssdc apssdc apssdc apssdc apssdc apssdc apssdc apssdc apssdc apssdc apssdc apssdc apssdc "
     ]
    }
   ],
   "source": [
    "for i in range(1,501):\n",
    "    print('apssdc',end=' ')"
   ]
  },
  {
   "cell_type": "code",
   "execution_count": 88,
   "metadata": {},
   "outputs": [
    {
     "name": "stdout",
     "output_type": "stream",
     "text": [
      "enter start value: 78\n",
      "enter end value: 123\n",
      "4623\n"
     ]
    }
   ],
   "source": [
    "## sum of n natural numbers\n",
    "\n",
    "sr = int(input('enter start value: ')) ## 1\n",
    "er = int(input('enter end value: ')) ## 10\n",
    "s = 0\n",
    "for i in range(sr,er+1): ## (1,11)\n",
    "    s = s+i ## s += i\n",
    "    \n",
    "print(s)\n",
    "    \n",
    "    \n",
    "    \n"
   ]
  },
  {
   "cell_type": "code",
   "execution_count": 96,
   "metadata": {},
   "outputs": [
    {
     "name": "stdout",
     "output_type": "stream",
     "text": [
      "enter start value: 1\n",
      "enter end value: 20\n",
      "Even numbers are: \n",
      "2 4 6 8 10 12 14 16 18 20 \n",
      "Odd numbers are: \n",
      "1 3 5 7 9 11 13 15 17 19 \n",
      "Even numbers sum is:  110\n",
      "Odd number sum is:  100\n",
      "Even numbers count is:  10\n",
      "Odd numbers count is:  10\n"
     ]
    }
   ],
   "source": [
    "## print even series and odd series\n",
    "\n",
    "sr = int(input('enter start value: ')) ## 1\n",
    "er = int(input('enter end value: ')) ## 10\n",
    "e_sum = o_sum = e_count = o_count = 0\n",
    "\n",
    "print('Even numbers are: ')\n",
    "for i in range(sr,er+1):\n",
    "    if(i%2 == 0):\n",
    "        e_sum += i\n",
    "        e_count += 1\n",
    "        print(i,end=' ')\n",
    "print('\\nOdd numbers are: ')\n",
    "for i in range(sr,er+1):\n",
    "    if(i%2 != 0): ## if(i%2 == 1)\n",
    "        o_sum += i\n",
    "        o_count += 1\n",
    "        print(i,end=' ')\n",
    "print('\\nEven numbers sum is: ',e_sum)\n",
    "print('Odd number sum is: ',o_sum)\n",
    "print('Even numbers count is: ',e_count)\n",
    "print('Odd numbers count is: ',o_count)\n",
    "\n",
    "    \n"
   ]
  },
  {
   "cell_type": "code",
   "execution_count": null,
   "metadata": {},
   "outputs": [],
   "source": []
  },
  {
   "cell_type": "code",
   "execution_count": null,
   "metadata": {},
   "outputs": [],
   "source": []
  },
  {
   "cell_type": "code",
   "execution_count": null,
   "metadata": {},
   "outputs": [],
   "source": []
  },
  {
   "cell_type": "code",
   "execution_count": null,
   "metadata": {},
   "outputs": [],
   "source": []
  },
  {
   "cell_type": "code",
   "execution_count": null,
   "metadata": {},
   "outputs": [],
   "source": []
  }
 ],
 "metadata": {
  "kernelspec": {
   "display_name": "Python 3",
   "language": "python",
   "name": "python3"
  },
  "language_info": {
   "codemirror_mode": {
    "name": "ipython",
    "version": 3
   },
   "file_extension": ".py",
   "mimetype": "text/x-python",
   "name": "python",
   "nbconvert_exporter": "python",
   "pygments_lexer": "ipython3",
   "version": "3.8.8"
  }
 },
 "nbformat": 4,
 "nbformat_minor": 4
}
